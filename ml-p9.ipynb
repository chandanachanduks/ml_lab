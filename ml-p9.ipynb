{
 "cells": [
  {
   "cell_type": "code",
   "execution_count": 10,
   "id": "8518769a",
   "metadata": {},
   "outputs": [],
   "source": [
    "import numpy as np\n",
    "x = np.array(([2, 9],[1, 5],[3, 6]),dtype=float)\n",
    "y = np.array(([92],[86],[89]), dtype=float)"
   ]
  },
  {
   "cell_type": "code",
   "execution_count": 11,
   "id": "dcd0bf44",
   "metadata": {},
   "outputs": [
    {
     "data": {
      "text/plain": [
       "array([[2., 9.],\n",
       "       [1., 5.],\n",
       "       [3., 6.]])"
      ]
     },
     "execution_count": 11,
     "metadata": {},
     "output_type": "execute_result"
    }
   ],
   "source": [
    "x"
   ]
  },
  {
   "cell_type": "code",
   "execution_count": 12,
   "id": "5acb3bb6",
   "metadata": {},
   "outputs": [
    {
     "data": {
      "text/plain": [
       "array([[92.],\n",
       "       [86.],\n",
       "       [89.]])"
      ]
     },
     "execution_count": 12,
     "metadata": {},
     "output_type": "execute_result"
    }
   ],
   "source": [
    "y"
   ]
  },
  {
   "cell_type": "code",
   "execution_count": 22,
   "id": "1940fc1e",
   "metadata": {},
   "outputs": [],
   "source": [
    "epoch=1\n",
    "lr=0.1\n",
    "in_nu = 2\n",
    "hidd_nu = 4\n",
    "out_nu = 1 "
   ]
  },
  {
   "cell_type": "code",
   "execution_count": 31,
   "id": "6c0f19e3",
   "metadata": {},
   "outputs": [],
   "source": [
    "X = x/np.amax(x)"
   ]
  },
  {
   "cell_type": "code",
   "execution_count": 32,
   "id": "c55d18b8",
   "metadata": {},
   "outputs": [
    {
     "data": {
      "text/plain": [
       "1.0"
      ]
     },
     "execution_count": 32,
     "metadata": {},
     "output_type": "execute_result"
    }
   ],
   "source": [
    "np.amax(x)"
   ]
  },
  {
   "cell_type": "code",
   "execution_count": 15,
   "id": "66a9085d",
   "metadata": {},
   "outputs": [
    {
     "data": {
      "text/plain": [
       "92.0"
      ]
     },
     "execution_count": 15,
     "metadata": {},
     "output_type": "execute_result"
    }
   ],
   "source": [
    "np.amax(y)"
   ]
  },
  {
   "cell_type": "code",
   "execution_count": 16,
   "id": "4024f875",
   "metadata": {},
   "outputs": [],
   "source": [
    "y = y/100"
   ]
  },
  {
   "cell_type": "code",
   "execution_count": 18,
   "id": "05217550",
   "metadata": {},
   "outputs": [
    {
     "data": {
      "text/plain": [
       "<module 'numpy.random' from 'C:\\\\Users\\\\PC2020\\\\anaconda3\\\\lib\\\\site-packages\\\\numpy\\\\random\\\\__init__.py'>"
      ]
     },
     "execution_count": 18,
     "metadata": {},
     "output_type": "execute_result"
    }
   ],
   "source": [
    "np.random"
   ]
  },
  {
   "cell_type": "code",
   "execution_count": 24,
   "id": "f82c6e06",
   "metadata": {},
   "outputs": [],
   "source": [
    "weight_hidd=np.random.uniform(size=(in_nu,hidd_nu))\n",
    "weight_out = np.random.uniform(size=(hidd_nu, out_nu))\n",
    "bias_hidd = np.random.uniform(size=(1,hidd_nu))\n",
    "bias_out = np.random.uniform(size=(1, out_nu))"
   ]
  },
  {
   "cell_type": "code",
   "execution_count": 37,
   "id": "a3cebed6",
   "metadata": {},
   "outputs": [
    {
     "data": {
      "text/plain": [
       "array([[0.44611583, 0.03079355, 0.43799614, 0.94126242]])"
      ]
     },
     "execution_count": 37,
     "metadata": {},
     "output_type": "execute_result"
    }
   ],
   "source": [
    "bias_hidd = np.random.uniform(size=(1,hidd_nu))\n",
    "\n",
    "bias_hidd"
   ]
  },
  {
   "cell_type": "code",
   "execution_count": 25,
   "id": "6d8e72a8",
   "metadata": {},
   "outputs": [
    {
     "data": {
      "text/plain": [
       "array([[0.69924336, 0.40090395, 0.8210659 , 0.54509063],\n",
       "       [0.57434807, 0.29644908, 0.98802554, 0.72249655]])"
      ]
     },
     "execution_count": 25,
     "metadata": {},
     "output_type": "execute_result"
    }
   ],
   "source": [
    "weight_hidd=np.random.uniform(size=(in_nu,hidd_nu))\n",
    "\n",
    "weight_hidd"
   ]
  },
  {
   "cell_type": "code",
   "execution_count": 26,
   "id": "21826a0f",
   "metadata": {},
   "outputs": [
    {
     "data": {
      "text/plain": [
       "array([[0.22222222, 1.        ],\n",
       "       [0.11111111, 0.55555556],\n",
       "       [0.33333333, 0.66666667]])"
      ]
     },
     "execution_count": 26,
     "metadata": {},
     "output_type": "execute_result"
    }
   ],
   "source": [
    "x"
   ]
  },
  {
   "cell_type": "code",
   "execution_count": 29,
   "id": "1635e4c3",
   "metadata": {},
   "outputs": [],
   "source": [
    "for i in range(epoch):\n",
    "    hidd_in=np.dot(x,weight_hidd) + bias_hidd\n",
    "    hidd_act = sigmoid(hidd_in)\n",
    "    out_in=np.dot(hidd_act,weight_out) + bias_out\n",
    "    out = sigmoid(out_in)\n"
   ]
  },
  {
   "cell_type": "code",
   "execution_count": 28,
   "id": "b13ac156",
   "metadata": {},
   "outputs": [],
   "source": [
    "def sigmoid (x):\n",
    "    return 1/1 + np.exp(-x)"
   ]
  },
  {
   "cell_type": "code",
   "execution_count": 33,
   "id": "5568de64",
   "metadata": {},
   "outputs": [
    {
     "name": "stdout",
     "output_type": "stream",
     "text": [
      "input: \n",
      "[[0.22222222 1.        ]\n",
      " [0.11111111 0.55555556]\n",
      " [0.33333333 0.66666667]]\n"
     ]
    }
   ],
   "source": [
    "print(\"input: \\n\" +str(X))"
   ]
  },
  {
   "cell_type": "code",
   "execution_count": 35,
   "id": "611247b6",
   "metadata": {},
   "outputs": [
    {
     "name": "stdout",
     "output_type": "stream",
     "text": [
      "Predicted Output : [[1.02747849]\n",
      " [1.02042614]\n",
      " [1.02462236]]\n"
     ]
    }
   ],
   "source": [
    "print(\"Predicted Output :\" ,out)"
   ]
  },
  {
   "cell_type": "code",
   "execution_count": 36,
   "id": "7003f4df",
   "metadata": {},
   "outputs": [
    {
     "name": "stdout",
     "output_type": "stream",
     "text": [
      "Actual output: \n",
      "[[0.92]\n",
      " [0.86]\n",
      " [0.89]]\n"
     ]
    }
   ],
   "source": [
    "print(\"Actual output: \\n\" + str(y))"
   ]
  },
  {
   "cell_type": "code",
   "execution_count": null,
   "id": "ff1feeb8",
   "metadata": {},
   "outputs": [],
   "source": []
  }
 ],
 "metadata": {
  "kernelspec": {
   "display_name": "Python 3",
   "language": "python",
   "name": "python3"
  },
  "language_info": {
   "codemirror_mode": {
    "name": "ipython",
    "version": 3
   },
   "file_extension": ".py",
   "mimetype": "text/x-python",
   "name": "python",
   "nbconvert_exporter": "python",
   "pygments_lexer": "ipython3",
   "version": "3.8.8"
  }
 },
 "nbformat": 4,
 "nbformat_minor": 5
}
