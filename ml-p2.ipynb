{
 "cells": [
  {
   "cell_type": "code",
   "execution_count": 2,
   "id": "63734e00",
   "metadata": {},
   "outputs": [
    {
     "name": "stdout",
     "output_type": "stream",
     "text": [
      "Iteration[1]\n",
      "Specific: [1 'Sunny' 'Warm' 'Normal' 'Strong' 'Warm' 'Same']\n",
      "General: [['?', '?', '?', '?', '?', '?', '?'], ['?', '?', '?', '?', '?', '?', '?'], ['?', '?', '?', '?', '?', '?', '?'], ['?', '?', '?', '?', '?', '?', '?'], ['?', '?', '?', '?', '?', '?', '?'], ['?', '?', '?', '?', '?', '?', '?'], ['?', '?', '?', '?', '?', '?', '?']]\n",
      "\n",
      "\n",
      "Iteration[2]\n",
      "Specific: [1 'Sunny' 'Warm' 'Normal' 'Strong' 'Warm' 'Same']\n",
      "General: [[1, '?', '?', '?', '?', '?', '?'], ['?', '?', '?', '?', '?', '?', '?'], ['?', '?', '?', '?', '?', '?', '?'], ['?', '?', '?', 'Normal', '?', '?', '?'], ['?', '?', '?', '?', '?', '?', '?'], ['?', '?', '?', '?', '?', '?', '?'], ['?', '?', '?', '?', '?', '?', '?']]\n",
      "\n",
      "\n",
      "Iteration[3]\n",
      "Specific: [1 'Sunny' 'Warm' 'Normal' 'Strong' 'Warm' 'Same']\n",
      "General: [[1, '?', '?', '?', '?', '?', '?'], ['?', 'Sunny', '?', '?', '?', '?', '?'], ['?', '?', 'Warm', '?', '?', '?', '?'], ['?', '?', '?', 'Normal', '?', '?', '?'], ['?', '?', '?', '?', '?', '?', '?'], ['?', '?', '?', '?', '?', '?', '?'], ['?', '?', '?', '?', '?', '?', 'Same']]\n",
      "\n",
      "\n",
      "Iteration[4]\n",
      "Specific: [1 'Sunny' 'Warm' 'Normal' 'Strong' 'Warm' 'Same']\n",
      "General: [[1, '?', '?', '?', '?', '?', '?'], ['?', '?', '?', '?', '?', '?', '?'], ['?', '?', '?', '?', '?', '?', '?'], ['?', '?', '?', 'Normal', '?', '?', '?'], ['?', '?', '?', '?', '?', '?', '?'], ['?', '?', '?', '?', '?', '?', '?'], ['?', '?', '?', '?', '?', '?', 'Same']]\n",
      "\n",
      "\n",
      "--------Final hypothesis-------\n",
      "Specific hypothesis: [1 'Sunny' 'Warm' 'Normal' 'Strong' 'Warm' 'Same']\n",
      "General hypothses: [[1, '?', '?', '?', '?', '?', '?'], ['?', '?', '?', 'Normal', '?', '?', '?'], ['?', '?', '?', '?', '?', '?', 'Same']]\n"
     ]
    }
   ],
   "source": [
    "import pandas as pd\n",
    "import numpy as np\n",
    "\n",
    "data = pd.read_csv('finds.csv')\n",
    "concept = np.array(data)[:,:-1]\n",
    "target = np.array(data)[:,-1]\n",
    "\n",
    "def train(con,tar):\n",
    "    specific = con[0].copy()\n",
    "    general=[['?' for x in range(len(specific))] for x in range(len(specific))]\n",
    " \n",
    "    for i,val in enumerate(con):\n",
    "        if tar[i] == 'yes':\n",
    "            for x in range(len(specific)):\n",
    "                if val[x] != specific[x]:\n",
    "                    specific[x] = '?'\n",
    "                    general[x][x] = '?'\n",
    "        else:\n",
    "            for x in range(len(specific)):\n",
    "                if val[x] != specific[x]:\n",
    "                    general[x][x] = specific[x]\n",
    "                else:\n",
    "                    general[x][x]='?'\n",
    "        print(\"Iteration[\"+ str(i+1) + \"]\")\n",
    "        print(\"Specific: \"+str(specific))\n",
    "        print(\"General: \"+str(general)+\"\\n\\n\")\n",
    "    general =[general[i] for i,val in enumerate(general) if val != ['?' for x in range(len(specific))]]\n",
    "    return specific, general\n",
    "specific,general = train(concept,target)\n",
    "print(\"--------Final hypothesis-------\")\n",
    "print(\"Specific hypothesis: \" +str(specific))\n",
    "print(\"General hypothses: \"+ str(general)) "
   ]
  },
  {
   "cell_type": "code",
   "execution_count": null,
   "id": "8c408ea6",
   "metadata": {},
   "outputs": [],
   "source": []
  }
 ],
 "metadata": {
  "kernelspec": {
   "display_name": "Python 3",
   "language": "python",
   "name": "python3"
  },
  "language_info": {
   "codemirror_mode": {
    "name": "ipython",
    "version": 3
   },
   "file_extension": ".py",
   "mimetype": "text/x-python",
   "name": "python",
   "nbconvert_exporter": "python",
   "pygments_lexer": "ipython3",
   "version": "3.8.8"
  }
 },
 "nbformat": 4,
 "nbformat_minor": 5
}
