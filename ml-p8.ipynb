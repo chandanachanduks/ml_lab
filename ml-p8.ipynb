{
 "cells": [
  {
   "cell_type": "code",
   "execution_count": 5,
   "id": "ff872dff",
   "metadata": {},
   "outputs": [
    {
     "data": {
      "text/plain": [
       "0.8807970779778823"
      ]
     },
     "execution_count": 5,
     "metadata": {},
     "output_type": "execute_result"
    }
   ],
   "source": [
    "import numpy as np\n",
    "\n",
    "def NN(x1, x2, w1, w2, b):\n",
    "    yin = x1*w1+x2*w2+b\n",
    "    return sigmoid(yin)\n",
    "\n",
    "def sigmoid(x):\n",
    "    return 1/(1+np.exp(-x))\n",
    "\n",
    "NN(1,0,1,1,1)\n"
   ]
  },
  {
   "cell_type": "code",
   "execution_count": 28,
   "id": "4caafc28",
   "metadata": {},
   "outputs": [
    {
     "name": "stdout",
     "output_type": "stream",
     "text": [
      "Initial weights are:\n",
      "[[-0.16595599]\n",
      " [ 0.44064899]\n",
      " [-0.99977125]]\n",
      "new weights are\n",
      "[[16.33455471]\n",
      " [-5.39659002]\n",
      " [-5.39657949]]\n",
      "obtainrd output vlaues are\n",
      "[[0.00451163]\n",
      " [0.9960942 ]\n",
      " [0.99998223]\n",
      " [0.00451159]]\n"
     ]
    }
   ],
   "source": [
    "import numpy as np\n",
    "\n",
    "def sigmoid(x):\n",
    "    return 1/(1+np.exp(-x))\n",
    "\n",
    "def sigmoid_derivation(x):\n",
    "    return x*(x-1)\n",
    "\n",
    "input = np.array([[0,0,1],\n",
    "                  [1,1,1],\n",
    "                  [1,0,1],\n",
    "                  [0,1,0]])\n",
    "\n",
    "output = np.array([[0,1,1,0]]).T\n",
    "\n",
    "np.random.seed(1)\n",
    "\n",
    "weights = 2* np.random.random((3,1))-1\n",
    "\n",
    "print('Initial weights are:')\n",
    "print(weights)\n",
    "\n",
    "for i in range(100000):\n",
    "    input_layer = input\n",
    "    o_output = sigmoid(np.dot(input_layer, weights))\n",
    "\n",
    "    loss = o_output - output\n",
    "    \n",
    "    adjustment = loss * sigmoid_derivation(o_output)\n",
    "    \n",
    "    weights = weights + np.dot(input_layer.T, adjustment)\n",
    "    \n",
    "print('new weights are')\n",
    "print(weights)\n",
    "\n",
    "print('obtainrd output vlaues are')\n",
    "print(o_output)"
   ]
  },
  {
   "cell_type": "code",
   "execution_count": 7,
   "id": "64b543a4",
   "metadata": {},
   "outputs": [
    {
     "data": {
      "text/plain": [
       "array([[1, 1],\n",
       "       [1, 0],\n",
       "       [0, 1],\n",
       "       [0, 0]])"
      ]
     },
     "execution_count": 7,
     "metadata": {},
     "output_type": "execute_result"
    }
   ],
   "source": [
    "input"
   ]
  },
  {
   "cell_type": "code",
   "execution_count": 12,
   "id": "dc35a0f1",
   "metadata": {},
   "outputs": [
    {
     "data": {
      "text/plain": [
       "array([[1],\n",
       "       [0],\n",
       "       [0],\n",
       "       [0]])"
      ]
     },
     "execution_count": 12,
     "metadata": {},
     "output_type": "execute_result"
    }
   ],
   "source": [
    "output"
   ]
  },
  {
   "cell_type": "code",
   "execution_count": null,
   "id": "0e3c12e9",
   "metadata": {},
   "outputs": [],
   "source": []
  }
 ],
 "metadata": {
  "kernelspec": {
   "display_name": "Python 3",
   "language": "python",
   "name": "python3"
  },
  "language_info": {
   "codemirror_mode": {
    "name": "ipython",
    "version": 3
   },
   "file_extension": ".py",
   "mimetype": "text/x-python",
   "name": "python",
   "nbconvert_exporter": "python",
   "pygments_lexer": "ipython3",
   "version": "3.8.8"
  }
 },
 "nbformat": 4,
 "nbformat_minor": 5
}
